{
 "cells": [
  {
   "cell_type": "code",
   "execution_count": null,
   "metadata": {
    "collapsed": true
   },
   "outputs": [],
   "source": [
    "import collections\n",
    "\n",
    "import tensorflow as tf\n",
    "import cv2\n",
    "import numpy as np\n",
    "import os\n",
    "import matplotlib.pyplot as plt\n",
    "import matplotlib.colors as colors\n",
    "import matplotlib.cm as cmx\n",
    "%matplotlib inline"
   ]
  },
  {
   "cell_type": "code",
   "execution_count": null,
   "metadata": {
    "collapsed": false
   },
   "outputs": [],
   "source": [
    "def load_imgs(dir_path):\n",
    "    name_list = os.listdir(dir_path)\n",
    "    \n",
    "    img_list = []\n",
    "    \n",
    "    for name in name_list:\n",
    "        img_path = \"{}/{}\".format(dir_path, name)\n",
    "        img = cv2.imread(img_path)\n",
    "        img = cv2.cvtColor(img, cv2.COLOR_BGR2RGB)\n",
    "        img = cv2.resize(img,(556,360))\n",
    "        img_list.append(img)\n",
    "    return img_list"
   ]
  },
  {
   "cell_type": "code",
   "execution_count": null,
   "metadata": {
    "collapsed": true
   },
   "outputs": [],
   "source": [
    "img_list = load_imgs(\"./data\")"
   ]
  },
  {
   "cell_type": "code",
   "execution_count": null,
   "metadata": {
    "collapsed": false
   },
   "outputs": [],
   "source": [
    "plt.imshow(img_list[0])"
   ]
  },
  {
   "cell_type": "code",
   "execution_count": null,
   "metadata": {
    "collapsed": true
   },
   "outputs": [],
   "source": [
    "def blur_img_list(img_list):\n",
    "    result_list =[]\n",
    "    for img in img_list:\n",
    "        result = cv2.GaussianBlur(img,(15,15), 3)\n",
    "        result_list.append(result)\n",
    "    return result_list"
   ]
  },
  {
   "cell_type": "code",
   "execution_count": null,
   "metadata": {
    "collapsed": true
   },
   "outputs": [],
   "source": [
    "X_train = np.array(blur_img_list(img_list))\n",
    "Y_train = np.array(img_list)"
   ]
  },
  {
   "cell_type": "code",
   "execution_count": null,
   "metadata": {
    "collapsed": false
   },
   "outputs": [],
   "source": [
    "plt.imshow(X_train[10])"
   ]
  },
  {
   "cell_type": "code",
   "execution_count": null,
   "metadata": {
    "collapsed": false
   },
   "outputs": [],
   "source": [
    "plt.imshow(Y_train[10])"
   ]
  },
  {
   "cell_type": "code",
   "execution_count": null,
   "metadata": {
    "collapsed": true
   },
   "outputs": [],
   "source": [
    "tf.reset_default_graph()"
   ]
  },
  {
   "cell_type": "code",
   "execution_count": null,
   "metadata": {
    "collapsed": false
   },
   "outputs": [],
   "source": [
    "def conv2d(X, n_input, n_output, filter_size, name):\n",
    "    \n",
    "    with tf.variable_scope(name):\n",
    "        W = tf.get_variable(\n",
    "                    name='W_1',\n",
    "                    shape=[filter_size[0],filter_size[1],n_input,n_output],\n",
    "                    initializer=tf.random_normal_initializer(mean=0.0, stddev=0.01))\n",
    "\n",
    "        b = tf.get_variable(\n",
    "                    name='b_1',\n",
    "                    shape=[n_output],\n",
    "                    initializer=tf.constant_initializer())\n",
    "\n",
    "        conv = tf.nn.conv2d(X,\n",
    "                            W, \n",
    "                            strides= [1,1,1,1],\n",
    "                            padding='SAME'\n",
    "                           )\n",
    "        h = tf.nn.relu(tf.nn.bias_add(conv,b))\n",
    "    \n",
    "    return h"
   ]
  },
  {
   "cell_type": "code",
   "execution_count": null,
   "metadata": {
    "collapsed": true
   },
   "outputs": [],
   "source": [
    "def build_model(learning_rate=0.001):\n",
    "    \n",
    "    height = 360\n",
    "    width = 556\n",
    "    channel = 3\n",
    "    n_flat = height * width * channel\n",
    "    X = tf.placeholder(tf.float32, shape=[None, height,width,channel],name='X')\n",
    "    Y = tf.placeholder(tf.float32, shape=[None, height,width,channel], name='Y')\n",
    "    \n",
    "    layer_info_list = [\n",
    "        {'name':'conv_1',\n",
    "                    'n_input':3,\n",
    "                    'n_output':16,\n",
    "                    'filter_size':(3,3)},\n",
    "        {'name':'conv_2', \n",
    "                    'n_input':16,\n",
    "                    'n_output':32,\n",
    "                    'filter_size':(3,3)\n",
    "                   },\n",
    "        {'name':'conv_5',\n",
    "                    'n_input':32,\n",
    "                    'n_output':3,\n",
    "                    'filter_size':(3,3)\n",
    "                   },\n",
    "            ]\n",
    "    \n",
    "    current_input = X\n",
    "    \n",
    "    for info in layer_info_list:\n",
    "        \n",
    "        current_input = conv2d(X=current_input,\n",
    "                                   n_input=info['n_input'],\n",
    "                                   n_output=info['n_output'],\n",
    "                                   filter_size=info['filter_size'],\n",
    "                                   name=info['name'],\n",
    "                                  )\n",
    "    Y_pred = current_input\n",
    "    \n",
    "    Y_pred_flattened = tf.reshape(Y_pred, shape=[-1,n_flat ])\n",
    "    Y_flattened = tf.reshape(Y, shape=[-1,n_flat])\n",
    "    \n",
    "    cost = tf.reduce_mean(tf.reduce_sum(tf.squared_difference(Y_pred, Y),axis=1), axis=0)\n",
    "    optimizer = tf.train.AdamOptimizer(learning_rate).minimize(cost)\n",
    "    return X, Y, Y_pred, cost, optimizer,\n",
    "        "
   ]
  },
  {
   "cell_type": "code",
   "execution_count": null,
   "metadata": {
    "collapsed": true
   },
   "outputs": [],
   "source": [
    "def train(X_train, Y_train, X, Y, Y_pred, cost, optimizer):\n",
    "\n",
    "    batch_size = 6\n",
    "    n_epoch = 10\n",
    "\n",
    "    with tf.Session() as sess:\n",
    "            \n",
    "        sess.run(tf.global_variables_initializer())\n",
    "    \n",
    "        for epoch_i in range(n_epoch):\n",
    "            rand_idx = np.random.permutation(range(len(X_train)))\n",
    "            n_batch = len(rand_idx) // batch_size\n",
    "            for batch_i in range(n_batch):\n",
    "\n",
    "                rand_idx = rand_idx[batch_i*batch_size : (batch_i+1)*batch_size]\n",
    "                batch_x = X_train[rand_idx]\n",
    "                batch_y = Y_train[rand_idx]\n",
    "                sess.run(optimizer, feed_dict={X:batch_x, Y: batch_y})\n",
    "\n",
    "    \n",
    "            Y_train_pred = Y_pred.eval(feed_dict={X:X_train[0] },session=sess)\n",
    "            training_cost = sess.run(cost, feed_dict={X:X_train,Y:Y_train})\n",
    "            plt.imshow(Y_train_pred)\n",
    "            print(training_cost)"
   ]
  },
  {
   "cell_type": "code",
   "execution_count": null,
   "metadata": {
    "collapsed": false
   },
   "outputs": [],
   "source": [
    "X, Y, Y_pred, cost, optimizer = build_model()"
   ]
  },
  {
   "cell_type": "code",
   "execution_count": null,
   "metadata": {
    "collapsed": false,
    "scrolled": false
   },
   "outputs": [],
   "source": [
    "train(X_train, Y_train, X, Y, Y_pred, cost, optimizer)"
   ]
  },
  {
   "cell_type": "code",
   "execution_count": null,
   "metadata": {
    "collapsed": true
   },
   "outputs": [],
   "source": []
  },
  {
   "cell_type": "code",
   "execution_count": null,
   "metadata": {
    "collapsed": true
   },
   "outputs": [],
   "source": []
  },
  {
   "cell_type": "code",
   "execution_count": null,
   "metadata": {
    "collapsed": true
   },
   "outputs": [],
   "source": []
  },
  {
   "cell_type": "code",
   "execution_count": null,
   "metadata": {
    "collapsed": true
   },
   "outputs": [],
   "source": []
  },
  {
   "cell_type": "code",
   "execution_count": null,
   "metadata": {
    "collapsed": true
   },
   "outputs": [],
   "source": []
  },
  {
   "cell_type": "code",
   "execution_count": null,
   "metadata": {
    "collapsed": true
   },
   "outputs": [],
   "source": []
  }
 ],
 "metadata": {
  "kernelspec": {
   "display_name": "Python 3",
   "language": "python",
   "name": "python3"
  },
  "language_info": {
   "codemirror_mode": {
    "name": "ipython",
    "version": 3
   },
   "file_extension": ".py",
   "mimetype": "text/x-python",
   "name": "python",
   "nbconvert_exporter": "python",
   "pygments_lexer": "ipython3",
   "version": "3.5.2"
  }
 },
 "nbformat": 4,
 "nbformat_minor": 2
}
